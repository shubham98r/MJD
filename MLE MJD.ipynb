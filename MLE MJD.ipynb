{
 "cells": [
  {
   "cell_type": "code",
   "execution_count": 1,
   "id": "0ba8faf6",
   "metadata": {},
   "outputs": [],
   "source": [
    "import numpy as np\n",
    "import pandas as pd\n",
    "import matplotlib.pyplot as plt\n",
    "from scipy import stats\n",
    "from scipy.optimize import minimize\n",
    "from math import factorial\n",
    "%matplotlib inline"
   ]
  },
  {
   "cell_type": "markdown",
   "id": "a6a3c1c4",
   "metadata": {},
   "source": [
    "# Estimation of Physical Parameters of Jump-Diffusion (Pricing) Model via Maximum Likelihood (ML) Estimation\n",
    "---"
   ]
  },
  {
   "cell_type": "markdown",
   "id": "380cadfc",
   "metadata": {},
   "source": [
    "## Contents\n",
    "---\n",
    "\n",
    "1. [DataFrame Setup and Data Summary](#sec1)\n",
    "2. [Understanding Model Dynamics](#sec2)\n",
    "3. [Maximum Likelihood Estimation (MLE)](#sec3)\n",
    "4. [Standard Errors and Hypothesis Testing](#sec4)\n",
    "5. [Final Results - Estimated Parameters, Standard Errors, P-values and Limitations](#sec5)"
   ]
  },
  {
   "cell_type": "markdown",
   "id": "4f1bf024",
   "metadata": {},
   "source": [
    "<a id='sec1'></a>\n",
    "## 1. `DataFrame Setup and Data Summary`\n",
    "---\n",
    "In this section we will read our time-series of daily closing prices of a stock from a csv file as a **`pandas` DataFrame** and set it up for our analysis and parameter estimation task. We will also see few summary statistics and plots to get a sense of data.\n",
    "\n",
    "We do the following $-$ \n",
    "- Read the csv file into a DataFrame `stock_df`\n",
    "- Clean the DataFrame\n",
    "- Get the columns\n",
    "    - `Spot`, $S_t \\Rightarrow$ Spot price (*at close*)\n",
    "    - `Log Return`, $X_t = \\ln \\left( S_t / S_0 \\right) \\Rightarrow$ Logarithmic returns\n",
    "    - `Daily Log Return`, $X_{\\Delta t} = X_{t_{i}} - X_{t_{i-1}} \\Rightarrow$ Daily logarithmic returns\n",
    "- See summary statistics and plots"
   ]
  },
  {
   "cell_type": "markdown",
   "id": "f5018d83",
   "metadata": {},
   "source": [
    "##### Read Data and DataFrame `stock_df` Setup"
   ]
  },
  {
   "cell_type": "code",
   "execution_count": 2,
   "id": "8cd9e8b1",
   "metadata": {},
   "outputs": [
    {
     "name": "stdout",
     "output_type": "stream",
     "text": [
      "======== data types ========\n",
      "Spot                float64\n",
      "Log Return          float64\n",
      "Daily Log Return    float64\n",
      "dtype: object\n",
      "Index : datetime64[ns]\n",
      "============================\n"
     ]
    },
    {
     "data": {
      "text/html": [
       "<div>\n",
       "<style scoped>\n",
       "    .dataframe tbody tr th:only-of-type {\n",
       "        vertical-align: middle;\n",
       "    }\n",
       "\n",
       "    .dataframe tbody tr th {\n",
       "        vertical-align: top;\n",
       "    }\n",
       "\n",
       "    .dataframe thead th {\n",
       "        text-align: right;\n",
       "    }\n",
       "</style>\n",
       "<table border=\"1\" class=\"dataframe\">\n",
       "  <thead>\n",
       "    <tr style=\"text-align: right;\">\n",
       "      <th></th>\n",
       "      <th>Spot</th>\n",
       "      <th>Log Return</th>\n",
       "      <th>Daily Log Return</th>\n",
       "    </tr>\n",
       "    <tr>\n",
       "      <th>Date</th>\n",
       "      <th></th>\n",
       "      <th></th>\n",
       "      <th></th>\n",
       "    </tr>\n",
       "  </thead>\n",
       "  <tbody>\n",
       "    <tr>\n",
       "      <th>2007-01-02</th>\n",
       "      <td>55.615475</td>\n",
       "      <td>0.000000</td>\n",
       "      <td>NaN</td>\n",
       "    </tr>\n",
       "    <tr>\n",
       "      <th>2007-01-03</th>\n",
       "      <td>55.963382</td>\n",
       "      <td>0.006236</td>\n",
       "      <td>0.006236</td>\n",
       "    </tr>\n",
       "    <tr>\n",
       "      <th>2007-01-04</th>\n",
       "      <td>54.710916</td>\n",
       "      <td>-0.016398</td>\n",
       "      <td>-0.022634</td>\n",
       "    </tr>\n",
       "    <tr>\n",
       "      <th>2007-01-05</th>\n",
       "      <td>56.062784</td>\n",
       "      <td>0.008011</td>\n",
       "      <td>0.024409</td>\n",
       "    </tr>\n",
       "    <tr>\n",
       "      <th>2007-01-08</th>\n",
       "      <td>55.655236</td>\n",
       "      <td>0.000715</td>\n",
       "      <td>-0.007296</td>\n",
       "    </tr>\n",
       "    <tr>\n",
       "      <th>...</th>\n",
       "      <td>...</td>\n",
       "      <td>...</td>\n",
       "      <td>...</td>\n",
       "    </tr>\n",
       "    <tr>\n",
       "      <th>2018-04-18</th>\n",
       "      <td>174.360000</td>\n",
       "      <td>1.142661</td>\n",
       "      <td>-0.002177</td>\n",
       "    </tr>\n",
       "    <tr>\n",
       "      <th>2018-04-19</th>\n",
       "      <td>173.280000</td>\n",
       "      <td>1.136447</td>\n",
       "      <td>-0.006213</td>\n",
       "    </tr>\n",
       "    <tr>\n",
       "      <th>2018-04-20</th>\n",
       "      <td>171.100000</td>\n",
       "      <td>1.123787</td>\n",
       "      <td>-0.012661</td>\n",
       "    </tr>\n",
       "    <tr>\n",
       "      <th>2018-04-23</th>\n",
       "      <td>169.440000</td>\n",
       "      <td>1.114037</td>\n",
       "      <td>-0.009749</td>\n",
       "    </tr>\n",
       "    <tr>\n",
       "      <th>2018-04-24</th>\n",
       "      <td>169.640000</td>\n",
       "      <td>1.115217</td>\n",
       "      <td>0.001180</td>\n",
       "    </tr>\n",
       "  </tbody>\n",
       "</table>\n",
       "<p>2871 rows × 3 columns</p>\n",
       "</div>"
      ],
      "text/plain": [
       "                  Spot  Log Return  Daily Log Return\n",
       "Date                                                \n",
       "2007-01-02   55.615475    0.000000               NaN\n",
       "2007-01-03   55.963382    0.006236          0.006236\n",
       "2007-01-04   54.710916   -0.016398         -0.022634\n",
       "2007-01-05   56.062784    0.008011          0.024409\n",
       "2007-01-08   55.655236    0.000715         -0.007296\n",
       "...                ...         ...               ...\n",
       "2018-04-18  174.360000    1.142661         -0.002177\n",
       "2018-04-19  173.280000    1.136447         -0.006213\n",
       "2018-04-20  171.100000    1.123787         -0.012661\n",
       "2018-04-23  169.440000    1.114037         -0.009749\n",
       "2018-04-24  169.640000    1.115217          0.001180\n",
       "\n",
       "[2871 rows x 3 columns]"
      ]
     },
     "execution_count": 2,
     "metadata": {},
     "output_type": "execute_result"
    }
   ],
   "source": [
    "stock_df = pd.read_csv('price_history.csv', index_col = 0, header = None, parse_dates = True)    # read csv file\n",
    "stock_df.index.rename('Date', inplace = True)                                                    # index rename\n",
    "stock_df.rename(columns = {1: 'Spot'}, inplace = True)                                           # price column rename\n",
    "\n",
    "stock_df['Log Return'] = np.log(stock_df['Spot'] / stock_df['Spot'][0])                          # add column 'Log Return'\n",
    "stock_df['Daily Log Return'] = stock_df['Log Return'].diff()                                     # add column 'Daily Log Return'\n",
    "\n",
    "print('======== data types ========')\n",
    "print(stock_df.dtypes)                                                                           # check data types\n",
    "print(f'Index : {stock_df.index.dtype}')\n",
    "print('============================')\n",
    "\n",
    "stock_df"
   ]
  },
  {
   "cell_type": "markdown",
   "id": "16f21b3c",
   "metadata": {},
   "source": [
    "##### Summary Statistics"
   ]
  },
  {
   "cell_type": "code",
   "execution_count": 3,
   "id": "01b371e2",
   "metadata": {},
   "outputs": [
    {
     "data": {
      "text/html": [
       "<div>\n",
       "<style scoped>\n",
       "    .dataframe tbody tr th:only-of-type {\n",
       "        vertical-align: middle;\n",
       "    }\n",
       "\n",
       "    .dataframe tbody tr th {\n",
       "        vertical-align: top;\n",
       "    }\n",
       "\n",
       "    .dataframe thead th {\n",
       "        text-align: right;\n",
       "    }\n",
       "</style>\n",
       "<table border=\"1\" class=\"dataframe\">\n",
       "  <thead>\n",
       "    <tr style=\"text-align: right;\">\n",
       "      <th></th>\n",
       "      <th>Spot</th>\n",
       "      <th>Log Return</th>\n",
       "      <th>Daily Log Return</th>\n",
       "    </tr>\n",
       "  </thead>\n",
       "  <tbody>\n",
       "    <tr>\n",
       "      <th>count</th>\n",
       "      <td>2871.000000</td>\n",
       "      <td>2871.000000</td>\n",
       "      <td>2870.000000</td>\n",
       "    </tr>\n",
       "    <tr>\n",
       "      <th>mean</th>\n",
       "      <td>125.186128</td>\n",
       "      <td>0.726464</td>\n",
       "      <td>0.000389</td>\n",
       "    </tr>\n",
       "    <tr>\n",
       "      <th>std</th>\n",
       "      <td>47.276861</td>\n",
       "      <td>0.437438</td>\n",
       "      <td>0.025324</td>\n",
       "    </tr>\n",
       "    <tr>\n",
       "      <th>min</th>\n",
       "      <td>29.124815</td>\n",
       "      <td>-0.646871</td>\n",
       "      <td>-0.220877</td>\n",
       "    </tr>\n",
       "    <tr>\n",
       "      <th>25%</th>\n",
       "      <td>91.325679</td>\n",
       "      <td>0.495970</td>\n",
       "      <td>-0.011173</td>\n",
       "    </tr>\n",
       "    <tr>\n",
       "      <th>50%</th>\n",
       "      <td>125.050000</td>\n",
       "      <td>0.810252</td>\n",
       "      <td>0.000345</td>\n",
       "    </tr>\n",
       "    <tr>\n",
       "      <th>75%</th>\n",
       "      <td>162.275000</td>\n",
       "      <td>1.070831</td>\n",
       "      <td>0.012665</td>\n",
       "    </tr>\n",
       "    <tr>\n",
       "      <th>max</th>\n",
       "      <td>255.200000</td>\n",
       "      <td>1.523586</td>\n",
       "      <td>0.179723</td>\n",
       "    </tr>\n",
       "  </tbody>\n",
       "</table>\n",
       "</div>"
      ],
      "text/plain": [
       "              Spot   Log Return  Daily Log Return\n",
       "count  2871.000000  2871.000000       2870.000000\n",
       "mean    125.186128     0.726464          0.000389\n",
       "std      47.276861     0.437438          0.025324\n",
       "min      29.124815    -0.646871         -0.220877\n",
       "25%      91.325679     0.495970         -0.011173\n",
       "50%     125.050000     0.810252          0.000345\n",
       "75%     162.275000     1.070831          0.012665\n",
       "max     255.200000     1.523586          0.179723"
      ]
     },
     "execution_count": 3,
     "metadata": {},
     "output_type": "execute_result"
    }
   ],
   "source": [
    "stock_df.describe()                "
   ]
  },
  {
   "cell_type": "markdown",
   "id": "e268deb6",
   "metadata": {},
   "source": [
    "##### Spot Price Plot"
   ]
  },
  {
   "cell_type": "code",
   "execution_count": 4,
   "id": "dc8b51b3",
   "metadata": {},
   "outputs": [
    {
     "data": {
      "image/png": "[encoded data removed]",
      "text/plain": [
       "<Figure size 1152x432 with 1 Axes>"
      ]
     },
     "metadata": {
      "needs_background": "light"
     },
     "output_type": "display_data"
    }
   ],
   "source": [
    "# spot price evolution plot\n",
    "plt.figure(figsize = (16, 6))                                \n",
    "plt.plot(stock_df['Spot'], label = f'$S_t$ - Spot Price')       \n",
    "plt.xlabel('Time', size = 12)\n",
    "plt.ylabel('Price', size = 12)\n",
    "plt.title('Spot Price Evolution With Time', size = 15)\n",
    "plt.grid(True, linestyle = '--')\n",
    "plt.legend();"
   ]
  },
  {
   "cell_type": "markdown",
   "id": "62472fab",
   "metadata": {},
   "source": [
    "##### Normal pdf and Poisson pmf (will be useful later as well)"
   ]
  },
  {
   "cell_type": "code",
   "execution_count": 5,
   "id": "77aa5887",
   "metadata": {},
   "outputs": [],
   "source": [
    "def normal_pdf(x, mu, sigma):\n",
    "    return np.exp(-0.5 * ((x - mu) / (sigma))**2) / (sigma * np.sqrt(2 * np.pi))\n",
    "\n",
    "def poisson_pmf(n, avg):\n",
    "    return np.exp(-avg) * (avg ** n) / factorial(n)"
   ]
  },
  {
   "cell_type": "markdown",
   "id": "ecf16571",
   "metadata": {},
   "source": [
    "##### Daily Logarithmic Returns Plot"
   ]
  },
  {
   "cell_type": "code",
   "execution_count": 6,
   "id": "75ef3f42",
   "metadata": {},
   "outputs": [
    {
     "data": {
      "image/png": "[encoded data removed]",
      "text/plain": [
       "<Figure size 1152x432 with 1 Axes>"
      ]
     },
     "metadata": {
      "needs_background": "light"
     },
     "output_type": "display_data"
    },
    {
     "data": {
      "image/png": "[encoded data removed]",
      "text/plain": [
       "<Figure size 1152x432 with 1 Axes>"
      ]
     },
     "metadata": {
      "needs_background": "light"
     },
     "output_type": "display_data"
    }
   ],
   "source": [
    "# sample statistics\n",
    "mean = stock_df['Daily Log Return'].mean()                                                     \n",
    "stddev = stock_df['Daily Log Return'].std()\n",
    "\n",
    "# z-score bound -> to define 'extreme' moves, returns outside 2 std dev of sample mean\n",
    "z_bound = 2\n",
    "\n",
    "# daily logarithmic returns plot\n",
    "plt.figure(figsize = (16, 6))                                \n",
    "plt.plot(stock_df['Daily Log Return'], label = '$X_{\\Delta t}$ - Daily Logarithmic Returns')       \n",
    "plt.xlabel('Time', size = 12)\n",
    "plt.ylabel('$X_{\\Delta t}$', size = 12)\n",
    "plt.title('Daily Logarithmic Returns Evolution With Time', size = 15)\n",
    "plt.axhline(mean, color = 'r', linestyle = '--', label = 'Mean ($\\overline{x}$)')\n",
    "plt.axhline(mean + z_bound * stddev, color = 'g', linestyle = '--', label = '$\\overline{x}' + f' \\pm {z_bound}s$')    # bounds\n",
    "plt.axhline(mean - z_bound * stddev, color = 'g', linestyle = '--')\n",
    "plt.grid(True, linestyle = '--')\n",
    "plt.legend()\n",
    "\n",
    "# histogram\n",
    "plt.figure(figsize = (16, 6))                                \n",
    "plt.hist(stock_df['Daily Log Return'], density = True, bins = 200, alpha = 0.7, label = 'Frequencies of $X_{\\Delta t}$ - Daily Logarithmic Returns')\n",
    "plt.xlabel('$X_{\\Delta t}$', size = 12)\n",
    "plt.ylabel('Frequency (Relative)', size = 12)\n",
    "plt.title('Daily Logarithmic Returns Histogram', size = 15)\n",
    "plt.axvline(mean, color = 'r', linestyle = '--', label = 'Mean ($\\overline{x}$)')             \n",
    "plt.axvline(mean + z_bound * stddev, color = 'g', linestyle = '--', label = '$\\overline{x}' + f' \\pm {z_bound}s$')    # bounds\n",
    "plt.axvline(mean - z_bound * stddev, color = 'g', linestyle = '--')\n",
    "x = np.linspace(mean - 5 * stddev, mean + 5 * stddev, 1000)                                       \n",
    "plt.plot(x, normal_pdf(x, mean, stddev), label = '$\\mathcal{N}\\ (\\overline{x}, s^{2})$')                              # normal curve\n",
    "plt.grid(True, linestyle = '--')\n",
    "plt.legend();"
   ]
  },
  {
   "cell_type": "markdown",
   "id": "cd028051",
   "metadata": {},
   "source": [
    "From the Daily Logarithmic Returns plot, it can be seen that the stock has made big moves (**jumps**) quite a few times.\n",
    "\n",
    "Let's check how many times did the returns exceed $\\overline{x} \\pm 2s$ bound (*$s$ is sample standard deviation; ddof = 1*). Also, we will compute the average annual rate of exceeding the bounds (proxy for **intensity $\\lambda$**).\n",
    "\n",
    "We assume $252$ trading days in a year."
   ]
  },
  {
   "cell_type": "markdown",
   "id": "4706050f",
   "metadata": {},
   "source": [
    "##### Bound ( $\\overline{x} \\pm 2s$ ) Exceed Count and Intensity Proxy"
   ]
  },
  {
   "cell_type": "code",
   "execution_count": 7,
   "id": "5634dfd9",
   "metadata": {},
   "outputs": [
    {
     "name": "stdout",
     "output_type": "stream",
     "text": [
      "==== bound exceed count & intensity proxy ====\n",
      "Number of times bound exceeded: 126\n",
      "Avg. annual rate (proxy for intensity): 11.06\n",
      "==============================================\n"
     ]
    }
   ],
   "source": [
    "# bound exceed count\n",
    "mask = (stock_df['Daily Log Return'] < (mean - z_bound * stddev)) | \\\n",
    "       (stock_df['Daily Log Return'] > (mean + z_bound * stddev))\n",
    "bound_exceed_count = len(stock_df[mask])                               # boolean indexing\n",
    "print('==== bound exceed count & intensity proxy ====')\n",
    "print(f'Number of times bound exceeded: {bound_exceed_count}')        \n",
    "\n",
    "# average bound exceed per year\n",
    "trading_days = 252                                                     # per year\n",
    "number_of_years = len(stock_df['Daily Log Return']) / trading_days          \n",
    "bound_exceed_avg_rate = bound_exceed_count / number_of_years\n",
    "print(f'Avg. annual rate (proxy for intensity): {bound_exceed_avg_rate:.2f}')\n",
    "print('==============================================')"
   ]
  },
  {
   "cell_type": "markdown",
   "id": "7d7356d3",
   "metadata": {},
   "source": [
    "<a id='sec2'></a>\n",
    "## 2. `Understanding Model Dynamics`\n",
    "---\n",
    "\n",
    "### Merton Jump-Diffusion Model\n",
    "\n",
    "We consider the continuous-time price process $S_t$ of a limited liability spot asset. The corresponding logarithmic return process is defined as $X_t = \\ln \\left( S_t / S_0 \\right)$. Under the Merton (1976) jump-diffusion model, the physical dynamics of $X_t$ are given by:\n",
    "\n",
    "$$\n",
    "X_t = \\gamma t + \\sigma W_t + \\sum_{i=1}^{N_t} Y_i\n",
    "$$\n",
    "\n",
    "where,\n",
    "- $\\gamma \\in \\mathbb{R}$ is drift term\n",
    "- $\\sigma \\in \\mathbb{R}_+$ is diffusion coefficient (**annualized volatility**)\n",
    "- $W_t$ is one-dimensional Brownian motion $\\sim \\mathcal{N}(0, t)$\n",
    "- $N_t \\sim POI(\\lambda t)$ is a Compound Poisson random variable counting the jumps of $X_t$ in $[0,t]$; $\\lambda \\in \\mathbb{R}_+$ is average rate of jumps per year (i.e. **intensity**)\n",
    "- $\\left\\{ Y_i \\right\\}_{i \\in \\mathbb{N}}$ is a sequence of $i.i.d.$ normal random variables with distribution $\\mathcal{N} \\left( \\alpha, \\beta^2 \\right)$ that denote the sizes of the jumps\n",
    "    - $\\alpha \\in \\mathbb{R}$ is mean of jump size\n",
    "    - $\\beta \\in \\mathbb{R}_+$ is standard deviation of jump size\n",
    "    \n",
    "Therefore, we have a total of 5 parameters which we denote by $\\theta = \\{ \\gamma, \\sigma, \\lambda, \\alpha, \\beta \\}$."
   ]
  },
  {
   "cell_type": "markdown",
   "id": "4f72cc80",
   "metadata": {},
   "source": [
    "### Probability Density Function (pdf) Explanation\n",
    "\n",
    "**Conditional** on number of jumps, $X_t$ follows normal distribution because $X_t$ is made up of 3 parts $-$\n",
    "- $\\gamma t$, which is a deterministic part\n",
    "- $W_t$, a brownian motion that follows $\\sim \\mathcal{N}(0, t)$\n",
    "- $n$ (*conditioned on* $N_t = n$) $i.i.d.$ jumps $Y_i$ $\\sim \\mathcal{N}(\\alpha, \\beta^2)$\n",
    "\n",
    "The number of jumps ($n$), jump sizes ($Y_i$) and brownian motion ($W_t$) $-$ all 3 are **independent** of each other. Therefore, after applying some basic rules of **expectation** $\\mathbb{E} \\left[X \\right]$ and **variance** $\\mathbb{V}ar \\left[X \\right]$ computation, namely $-$\n",
    "- *sum of independent normal variables is a normal variable*\n",
    "- *constant shifts the mean but does not impact variance*\n",
    "- *i.i.d. rules for mean and variance*\n",
    "\n",
    "we get (*conditional*) pdf of $X_t$ as \n",
    "$$\n",
    "f_{X_t}\\left(x; \\theta | N_t = n\\right) = \\Phi \\left(x; \\gamma t + n\\alpha, \\sigma^2 t + n\\beta^2\\right)\n",
    "$$\n",
    "\n",
    "Finally, since the number of jumps ($n$) can range from $0$ to $\\infty$ (i.e. $n \\in \\mathbb{N}$), the final **pdf** is expressed as probability weighted average i.e. **conditional expectation** where the weights are pmf of $POI \\left(\\lambda t \\right)$\n",
    "\n",
    "$$\n",
    "f_{X_t} \\left(x; \\theta \\right) = \\sum_{n=0}^{\\infty} \\Phi \\left(x; \\gamma t + n\\alpha, \\sigma^2 t + n\\beta^2\\right) \\Psi \\left(n \\right)\n",
    "$$\n",
    "\n",
    "where,\n",
    "\n",
    "$$\n",
    "\\Psi \\left(n \\right) = \\frac{{(\\lambda t )^n }}{{n!}}e^{ - \\lambda t}\n",
    "$$\n",
    "\n",
    "is the probability mass function (**pmf**) of $N_t$ with **intensity** $\\lambda$ and\n",
    "\n",
    "$$\n",
    "\\Phi \\left(x; \\alpha, \\beta^2 \\right) = \\frac{1}{\\beta\\sqrt{2\\pi}} \n",
    "  \\exp\\left( -\\frac{1}{2}\\left(\\frac{x-\\alpha}{\\beta}\\right)^{\\!2}\\,\\right)\n",
    "$$\n",
    "is the probability density function of a normal distribution with mean $\\alpha$ and variance $\\beta^2$."
   ]
  },
  {
   "cell_type": "markdown",
   "id": "d76778bb",
   "metadata": {},
   "source": [
    "### Provided Tip (*model the increments*)\n",
    "\n",
    "> *To simplify the analysis, you may assume that the samples are equally spaced with $\\Delta t = 1\\ /\\ 252$ years on a time grid*\n",
    ">\n",
    ">$$\\Pi = \\left\\{ t_0 = 0,t_1 = \\Delta t,t_2 = 2\\Delta t,...\\right\\}$$\n",
    ">\n",
    "> *When estimating the model based on equally spaced data sets, it is easier not to estimate the process $X_t$ directly but instead to use that its increments are i.i.d. with distribution i.e.*\n",
    ">$$X_{t_{i}} - X_{t_{i-1}} \\sim X_{\\Delta t}$$\n",
    "\n",
    "Again, after applying rules of probability theory and properties of underlying distributions, namely $-$\n",
    "- *$W_{t_{i}} - W_{t_{i-1}} = W_{\\Delta t} \\sim \\mathcal{N}(0, \\Delta t)$*\n",
    "- *$N_{t_{i}} - N_{t_{i-1}} = N_{\\Delta t} \\sim POI(\\lambda \\Delta t)$*\n",
    "- *$\\gamma t_{i} - \\gamma t_{i-1} = \\gamma \\Delta t$*\n",
    "\n",
    "we can say that the physical dynamics of $X_{\\Delta t}$ are given by:\n",
    "\n",
    "$$\n",
    "X_{\\Delta t} = \\gamma \\Delta t + \\sigma W_{\\Delta t} + \\sum_{i=1}^{N_{\\Delta t}} Y_i, \n",
    "$$\n",
    "\n",
    "and the **pdf** of $X_{\\Delta t}$ becomes <a id='pdfMerton'></a>\n",
    "\n",
    "$$\n",
    "f_{X_{\\Delta t}} \\left(x; \\theta \\right) = \\sum_{n=0}^{\\infty} \\Phi \\left(x; \\gamma \\Delta t + n\\alpha, \\sigma^2 \\Delta t + n\\beta^2\\right) \\Psi \\left(n \\right)\n",
    "$$\n",
    "\n",
    "This tip will help us in our [Maximum Likelihood Estimation](#sec3) as the `stock_df` DataFrame's column `Daily Log Return` forms our sample observations from the **data generating process** $X_{\\Delta t}$. So, we have the **data** and the underlying **distribution** to compute the **(log) likelihood** for our parameter estimation via MLE."
   ]
  },
  {
   "cell_type": "markdown",
   "id": "bd77bc0d",
   "metadata": {},
   "source": [
    "<a id='sec3'></a>\n",
    "## 3. `Maximum Likelihood Estimation (MLE)`\n",
    "---\n",
    "### Maximum Likelihood Estimate\n",
    "\n",
    "We have the pdf formula for $X_{\\Delta t}$ from above section. The objective function of MLE is to maximize the **likelihood** function\n",
    "$$\n",
    "L(\\theta ; x) = \\prod_{i=1}^n f_{X_{\\Delta t}} \\left(x_i; \\theta \\right)\n",
    "$$\n",
    "It is more convenient and numerically stable to maximize the **log-likelihood** function. The log-likelihood can be decomposed as the observations are $i.i.d. \\sim X_{\\Delta t}$\n",
    "$$\n",
    "l(\\theta ; x) = \\sum_{i=1}^n \\ln \\left(f_{X_{\\Delta t}} \\left(x_i; \\theta \\right) \\right)\n",
    "$$"
   ]
  },
  {
   "cell_type": "markdown",
   "id": "a10bb063",
   "metadata": {},
   "source": [
    "### Parameter Estimation\n",
    "\n",
    "We have been asked to estimate parameters $\\theta = \\{ \\gamma, \\sigma, \\lambda, \\alpha, \\beta \\}$ of Merton Jump-Diffusion model via **MLE** method. There are $5$ parameters and there are no **closed-from (analytical)** solutions to **first-order conditions (FOC)** of objective function given by **log-likelihood** (*i.e. can't determine **stationary points** analytically*). Therefore, we will have to resort to **numerical** methods (*generally using Newton methods $-$ Quasi-Newton methods (e.g. **BFGS**) are generally preferred as they are computationally relatively less expensive as they rely only on **gradient** $\\nabla f(x)$ evaluations*). **Nelder-Mead** might be helpful where derivatives cannot be computed. Such numerical optimization methods require initial guess of parameter estimates.\n",
    "\n",
    "We will use the function `scipy.optimize.minimize` to find the set of parameters that (locally) minimize the negative of the log-likelihood function i.e. we will **maximize** the log-likelihood.\n",
    "\n",
    "As the model has $5$ parameters, optimization might be slow and we may have to try different methods to see which one performs better. Since we are locally minimizing we have to carefully pick our initial guess as it can influence the estimates."
   ]
  },
  {
   "cell_type": "markdown",
   "id": "56c586f9",
   "metadata": {},
   "source": [
    "##### Initial Guess of Parameters $\\theta_0 = \\{ \\gamma_0, \\sigma_0, \\lambda_0, \\alpha_0, \\beta_0 \\}$\n",
    "\n",
    "Let's use our sample data statistics of daily logarithmic returns to arrive at a reasonable initial guess."
   ]
  },
  {
   "cell_type": "code",
   "execution_count": 8,
   "id": "cd3d0d60",
   "metadata": {},
   "outputs": [
    {
     "name": "stdout",
     "output_type": "stream",
     "text": [
      "=============== initial guess of parameters ================\n",
      "Initial gamma (drift) guess is 0.00\n",
      "Initial sigma (diffusion coeff. = annual vol.) guess is 0.40\n",
      "Initial lambda (intensity) guess is 11.06\n",
      "Initial alpha (jump size mean) guess is -0.01\n",
      "Initial beta (jump size stddev) guess is 1.35\n",
      "============================================================\n"
     ]
    }
   ],
   "source": [
    "lambda_0 = bound_exceed_avg_rate                                          # intensity guess\n",
    "gamma_0 = stock_df['Daily Log Return'].mean()                             # drift guess\n",
    "sigma_0 = stock_df['Daily Log Return'].std() * np.sqrt(trading_days)      # diffusion coefficient guess \n",
    "                                                                          # multiply by sqrt(trading_days) to get annual vol. \n",
    "\n",
    "jumps_df = stock_df.loc[mask, 'Daily Log Return']                         # boolean indexing, only out of bounds log returns \n",
    "alpha_0 = jumps_df.mean()                                                 # jump size mean guess\n",
    "beta_0 = jumps_df.std() * np.sqrt(trading_days)                           # jump size stddev guess\n",
    "\n",
    "print('=============== initial guess of parameters ================')\n",
    "print(f'Initial gamma (drift) guess is {gamma_0:.2f}')\n",
    "print(f'Initial sigma (diffusion coeff. = annual vol.) guess is {sigma_0:.2f}')\n",
    "print(f'Initial lambda (intensity) guess is {lambda_0:.2f}')\n",
    "print(f'Initial alpha (jump size mean) guess is {alpha_0:.2f}')\n",
    "print(f'Initial beta (jump size stddev) guess is {beta_0:.2f}')\n",
    "print('============================================================')"
   ]
  },
  {
   "cell_type": "markdown",
   "id": "b7465010",
   "metadata": {},
   "source": [
    "We will use following as initial guess of $\\theta_0 = \\{ \\gamma_0, \\sigma_0, \\lambda_0, \\alpha_0, \\beta_0 \\}$:"
   ]
  },
  {
   "cell_type": "code",
   "execution_count": 9,
   "id": "80b98460",
   "metadata": {},
   "outputs": [
    {
     "data": {
      "text/html": [
       "<div>\n",
       "<style scoped>\n",
       "    .dataframe tbody tr th:only-of-type {\n",
       "        vertical-align: middle;\n",
       "    }\n",
       "\n",
       "    .dataframe tbody tr th {\n",
       "        vertical-align: top;\n",
       "    }\n",
       "\n",
       "    .dataframe thead th {\n",
       "        text-align: right;\n",
       "    }\n",
       "</style>\n",
       "<table border=\"1\" class=\"dataframe\">\n",
       "  <thead>\n",
       "    <tr style=\"text-align: right;\">\n",
       "      <th></th>\n",
       "      <th>Initial Guess</th>\n",
       "    </tr>\n",
       "  </thead>\n",
       "  <tbody>\n",
       "    <tr>\n",
       "      <th>gamma</th>\n",
       "      <td>0.00</td>\n",
       "    </tr>\n",
       "    <tr>\n",
       "      <th>sigma</th>\n",
       "      <td>0.40</td>\n",
       "    </tr>\n",
       "    <tr>\n",
       "      <th>lambda</th>\n",
       "      <td>11.00</td>\n",
       "    </tr>\n",
       "    <tr>\n",
       "      <th>alpha</th>\n",
       "      <td>-0.01</td>\n",
       "    </tr>\n",
       "    <tr>\n",
       "      <th>beta</th>\n",
       "      <td>1.35</td>\n",
       "    </tr>\n",
       "  </tbody>\n",
       "</table>\n",
       "</div>"
      ],
      "text/plain": [
       "        Initial Guess\n",
       "gamma            0.00\n",
       "sigma            0.40\n",
       "lambda          11.00\n",
       "alpha           -0.01\n",
       "beta             1.35"
      ]
     },
     "execution_count": 9,
     "metadata": {},
     "output_type": "execute_result"
    }
   ],
   "source": [
    "# update guess with rounded off numbers\n",
    "gamma_0 = round(gamma_0, 2)\n",
    "sigma_0 = round(sigma_0, 2)\n",
    "lambda_0 = round(lambda_0)\n",
    "alpha_0 = round(alpha_0, 2)\n",
    "beta_0 = round(beta_0, 2)\n",
    "\n",
    "params_name = ['gamma', 'sigma', 'lambda', 'alpha', 'beta']\n",
    "initial_guess = [gamma_0, sigma_0, lambda_0, alpha_0, beta_0]\n",
    "\n",
    "pd.Series(initial_guess, params_name, name = 'Initial Guess').to_frame()"
   ]
  },
  {
   "cell_type": "markdown",
   "id": "58772dd2",
   "metadata": {},
   "source": [
    "##### Number of Jumps Upper Limit for $X_{\\Delta t}$ pdf\n",
    "The pdf of $X_{\\Delta t}$ is a sum of infinite terms. For us to be able to carry out MLE (*optimization*) we need to set an upper bound to this sum. Taking our initial guess of $\\lambda_0 = 3$ and we know $\\Delta t = 1\\ /\\ 252$, we can find an $n$ (*number of jumps*) beyond which **pmf** of $POI(\\lambda_0 \\Delta t) \\to 0$ "
   ]
  },
  {
   "cell_type": "code",
   "execution_count": 10,
   "id": "e83e059d",
   "metadata": {},
   "outputs": [
    {
     "data": {
      "text/plain": [
       "8"
      ]
     },
     "execution_count": 10,
     "metadata": {},
     "output_type": "execute_result"
    }
   ],
   "source": [
    "delta_t = 1 / trading_days\n",
    "tolerance = 10 ** (-15)                    # pmf tolerance\n",
    "n = 0                                      # number of jumps\n",
    "\n",
    "while poisson_pmf(n, lambda_0 * delta_t) > tolerance:\n",
    "    n += 1\n",
    "\n",
    "n"
   ]
  },
  {
   "cell_type": "markdown",
   "id": "05fbcefb",
   "metadata": {},
   "source": [
    "Considering some error margin, we can restrict the $\\sum$ in **pdf** of $X_{\\Delta t}$ to $n = 20$ jumps instead of $n = \\infty$ jumps."
   ]
  },
  {
   "cell_type": "markdown",
   "id": "22209fb8",
   "metadata": {},
   "source": [
    "##### Probability Density Function $X_{\\Delta t}$\n",
    "In code we indicate parameters $\\theta$ with variable names $\\gamma \\to$ `gamma`, $\\sigma \\to $ `sigma`, $\\lambda \\to $ `lam`, $\\alpha \\to $ `alpha`, $\\beta \\to $ `beta` and $\\Delta t \\to $ `delta_t`."
   ]
  },
  {
   "cell_type": "code",
   "execution_count": 11,
   "id": "8f17ee68",
   "metadata": {},
   "outputs": [],
   "source": [
    "def merton_pdf(x, delta_t, gamma, sigma, lam, alpha, beta):\n",
    "    pdf_jumps_upper_bound = 20\n",
    "    pdf_sum = 0\n",
    "    for n in range(pdf_jumps_upper_bound + 1):\n",
    "        pdf_sum += poisson_pmf(n, lam * delta_t) * normal_pdf(x, gamma * delta_t + alpha * n, np.sqrt(delta_t * sigma**2 + n * beta**2))\n",
    "    return pdf_sum"
   ]
  },
  {
   "cell_type": "markdown",
   "id": "25c3e389",
   "metadata": {},
   "source": [
    "##### (Negative) Log-Likelihood Function $X_{\\Delta t}$"
   ]
  },
  {
   "cell_type": "code",
   "execution_count": 12,
   "id": "000b6985",
   "metadata": {},
   "outputs": [],
   "source": [
    "def neg_log_like_merton(params, data, delta_t):\n",
    "    return (-1) * np.sum(np.log(merton_pdf(data, delta_t, params[0], params[1], params[2], params[3], params[4])))"
   ]
  },
  {
   "cell_type": "markdown",
   "id": "87ffd24c",
   "metadata": {},
   "source": [
    "##### MLE (via Multiple Optimization Methods)"
   ]
  },
  {
   "cell_type": "code",
   "execution_count": 13,
   "id": "76afa8b7",
   "metadata": {},
   "outputs": [
    {
     "name": "stderr",
     "output_type": "stream",
     "text": [
      "/var/folders/rg/jr2h62vn0gqb4str8xzdk33c0000gn/T/ipykernel_1100/4172705309.py:2: RuntimeWarning: invalid value encountered in log\n",
      "  return (-1) * np.sum(np.log(merton_pdf(data, delta_t, params[0], params[1], params[2], params[3], params[4])))\n",
      "/var/folders/rg/jr2h62vn0gqb4str8xzdk33c0000gn/T/ipykernel_1100/4172705309.py:2: RuntimeWarning: divide by zero encountered in log\n",
      "  return (-1) * np.sum(np.log(merton_pdf(data, delta_t, params[0], params[1], params[2], params[3], params[4])))\n",
      "/var/folders/rg/jr2h62vn0gqb4str8xzdk33c0000gn/T/ipykernel_1100/2419492808.py:2: RuntimeWarning: divide by zero encountered in true_divide\n",
      "  return np.exp(-0.5 * ((x - mu) / (sigma))**2) / (sigma * np.sqrt(2 * np.pi))\n",
      "/var/folders/rg/jr2h62vn0gqb4str8xzdk33c0000gn/T/ipykernel_1100/2419492808.py:2: RuntimeWarning: invalid value encountered in true_divide\n",
      "  return np.exp(-0.5 * ((x - mu) / (sigma))**2) / (sigma * np.sqrt(2 * np.pi))\n"
     ]
    }
   ],
   "source": [
    "bounds = ((None, None), (0, None), (0, None), (None, None), (0, None))    # value range that parameters 𝛾,𝜎,𝜆,𝛼,𝛽 can take respectively\n",
    "data = stock_df['Daily Log Return'].values[1:]\n",
    "\n",
    "MLE_BFGS = minimize(neg_log_like_merton, x0 = initial_guess, method = 'BFGS', args = (data, delta_t))\n",
    "MLE_Nel_Mead = minimize(neg_log_like_merton, x0 = initial_guess, method = 'Nelder-Mead', args = (data, delta_t))\n",
    "MLE_L_BFGS_B = minimize(neg_log_like_merton, x0 = initial_guess, method = 'L-BFGS-B', args = (data, delta_t), bounds = bounds)\n",
    "MLE_SLSQP = minimize(neg_log_like_merton, x0 = initial_guess, method = 'SLSQP', args = (data, delta_t), bounds = bounds)\n",
    "MLE_trust_constr = minimize(neg_log_like_merton, x0 = initial_guess, method = 'trust-constr', args = (data, delta_t), bounds = bounds)"
   ]
  },
  {
   "cell_type": "markdown",
   "id": "6c0ec27b",
   "metadata": {},
   "source": [
    "##### MLE Results DataFrame `MLE_merton_df` and Unit Tests / Sanity Checks of Estimates"
   ]
  },
  {
   "cell_type": "code",
   "execution_count": 14,
   "id": "702f1faf",
   "metadata": {},
   "outputs": [
    {
     "data": {
      "text/html": [
       "<div>\n",
       "<style scoped>\n",
       "    .dataframe tbody tr th:only-of-type {\n",
       "        vertical-align: middle;\n",
       "    }\n",
       "\n",
       "    .dataframe tbody tr th {\n",
       "        vertical-align: top;\n",
       "    }\n",
       "\n",
       "    .dataframe thead th {\n",
       "        text-align: right;\n",
       "    }\n",
       "</style>\n",
       "<table border=\"1\" class=\"dataframe\">\n",
       "  <thead>\n",
       "    <tr style=\"text-align: right;\">\n",
       "      <th></th>\n",
       "      <th>gamma</th>\n",
       "      <th>sigma</th>\n",
       "      <th>lambda</th>\n",
       "      <th>alpha</th>\n",
       "      <th>beta</th>\n",
       "      <th>log likelihood</th>\n",
       "      <th>optimization success</th>\n",
       "      <th>unit test - sigma</th>\n",
       "      <th>unit test - lambda</th>\n",
       "      <th>unit test - beta</th>\n",
       "    </tr>\n",
       "  </thead>\n",
       "  <tbody>\n",
       "    <tr>\n",
       "      <th>BFGS</th>\n",
       "      <td>0.179803</td>\n",
       "      <td>0.241820</td>\n",
       "      <td>72.967474</td>\n",
       "      <td>-0.001122</td>\n",
       "      <td>0.035689</td>\n",
       "      <td>6821.630108</td>\n",
       "      <td>False</td>\n",
       "      <td>True</td>\n",
       "      <td>True</td>\n",
       "      <td>True</td>\n",
       "    </tr>\n",
       "    <tr>\n",
       "      <th>L-BFGS-S</th>\n",
       "      <td>0.179792</td>\n",
       "      <td>0.241816</td>\n",
       "      <td>72.974708</td>\n",
       "      <td>-0.001122</td>\n",
       "      <td>0.035688</td>\n",
       "      <td>6821.630108</td>\n",
       "      <td>True</td>\n",
       "      <td>True</td>\n",
       "      <td>True</td>\n",
       "      <td>True</td>\n",
       "    </tr>\n",
       "    <tr>\n",
       "      <th>Nelder-Mead</th>\n",
       "      <td>-0.000072</td>\n",
       "      <td>0.239948</td>\n",
       "      <td>75.318285</td>\n",
       "      <td>0.000257</td>\n",
       "      <td>0.035303</td>\n",
       "      <td>6820.212300</td>\n",
       "      <td>True</td>\n",
       "      <td>True</td>\n",
       "      <td>True</td>\n",
       "      <td>True</td>\n",
       "    </tr>\n",
       "    <tr>\n",
       "      <th>SLSQP</th>\n",
       "      <td>0.179812</td>\n",
       "      <td>0.241825</td>\n",
       "      <td>72.961496</td>\n",
       "      <td>-0.001122</td>\n",
       "      <td>0.035691</td>\n",
       "      <td>6821.630108</td>\n",
       "      <td>True</td>\n",
       "      <td>True</td>\n",
       "      <td>True</td>\n",
       "      <td>True</td>\n",
       "    </tr>\n",
       "    <tr>\n",
       "      <th>Trust Constr</th>\n",
       "      <td>0.179804</td>\n",
       "      <td>0.241824</td>\n",
       "      <td>72.962967</td>\n",
       "      <td>-0.001122</td>\n",
       "      <td>0.035690</td>\n",
       "      <td>6821.630108</td>\n",
       "      <td>True</td>\n",
       "      <td>True</td>\n",
       "      <td>True</td>\n",
       "      <td>True</td>\n",
       "    </tr>\n",
       "  </tbody>\n",
       "</table>\n",
       "</div>"
      ],
      "text/plain": [
       "                 gamma     sigma     lambda     alpha      beta  \\\n",
       "BFGS          0.179803  0.241820  72.967474 -0.001122  0.035689   \n",
       "L-BFGS-S      0.179792  0.241816  72.974708 -0.001122  0.035688   \n",
       "Nelder-Mead  -0.000072  0.239948  75.318285  0.000257  0.035303   \n",
       "SLSQP         0.179812  0.241825  72.961496 -0.001122  0.035691   \n",
       "Trust Constr  0.179804  0.241824  72.962967 -0.001122  0.035690   \n",
       "\n",
       "              log likelihood  optimization success  unit test - sigma  \\\n",
       "BFGS             6821.630108                 False               True   \n",
       "L-BFGS-S         6821.630108                  True               True   \n",
       "Nelder-Mead      6820.212300                  True               True   \n",
       "SLSQP            6821.630108                  True               True   \n",
       "Trust Constr     6821.630108                  True               True   \n",
       "\n",
       "              unit test - lambda  unit test - beta  \n",
       "BFGS                        True              True  \n",
       "L-BFGS-S                    True              True  \n",
       "Nelder-Mead                 True              True  \n",
       "SLSQP                       True              True  \n",
       "Trust Constr                True              True  "
      ]
     },
     "execution_count": 14,
     "metadata": {},
     "output_type": "execute_result"
    }
   ],
   "source": [
    "MLE_merton_df = pd.DataFrame(np.vstack([MLE_BFGS.x, MLE_L_BFGS_B.x, MLE_Nel_Mead.x, MLE_SLSQP.x, MLE_trust_constr.x]),\n",
    "                             index = ['BFGS', 'L-BFGS-S', 'Nelder-Mead', 'SLSQP', 'Trust Constr'],\n",
    "                             columns = params_name)                                                      # data = stacked col. of estimates of all methods\n",
    "\n",
    "MLE_merton_df['log likelihood'] = [-1 * MLE_BFGS.fun, -1 * MLE_L_BFGS_B.fun, -1 * MLE_Nel_Mead.fun, \n",
    "                                   -1 * MLE_SLSQP.fun, -1 * MLE_trust_constr.fun]                        # new column for log like values\n",
    "MLE_merton_df['optimization success'] = [MLE_BFGS.success, MLE_L_BFGS_B.success, MLE_Nel_Mead.success, \n",
    "                                         MLE_SLSQP.success, MLE_trust_constr.success]                    # new column for optimization success\n",
    "\n",
    "MLE_merton_df['unit test - sigma'] = MLE_merton_df['sigma'] >= 0                                         # unit tests / sanity checks\n",
    "MLE_merton_df['unit test - lambda'] = MLE_merton_df['lambda'] >= 0\n",
    "MLE_merton_df['unit test - beta'] = MLE_merton_df['beta'] >= 0\n",
    "\n",
    "MLE_merton_df"
   ]
  },
  {
   "cell_type": "markdown",
   "id": "ce72cbdf",
   "metadata": {},
   "source": [
    "##### Results Overview\n",
    "We can drop the **Nelder Mead** method as it estimates $\\beta < 0$ which is not feasible since $\\beta \\in \\mathbb{R}_+$ and its estimates are completely off as compared to estimates from other optimization methods. Moreover, the estimates from Nelder Mead are not in-line with estimates from other methods.\n",
    "\n",
    "The estimates from other $4$ methods are very much in-line with each other.\n",
    "\n",
    "Based on **median**, across different optimization methods the estimated parameter values $\\hat{\\theta}_{ML} = \\{ \\hat{ \\gamma}, \\hat{\\sigma}, \\hat{\\lambda}, \\hat{\\alpha}, \\hat{\\beta} \\}$ that **maximize** the **log likelihood** are $-$\n",
    "\n",
    "| Parameter | ML Estimate    | Description |\n",
    "|:--- |:---| :---|\n",
    "| $\\hat{\\gamma}_{ML}$ | $0.18$ | Drift |\n",
    "| $\\hat{\\sigma}_{ML}$ | $0.24$ |  Diffusion Coefficient (*volatility*)|\n",
    "| $\\hat{\\lambda}_{ML}$ | $73$ | Intensity |\n",
    "| $\\hat{\\alpha}_{ML}$ | $0$ |  Jump Size Mean |\n",
    "| $\\hat{\\beta}_{ML}$ | $0.04$  | Jump Size Standard Deviation |"
   ]
  },
  {
   "cell_type": "markdown",
   "id": "25a510c8",
   "metadata": {},
   "source": [
    "<a id='sec4'></a>\n",
    "## 4. `Standard Errors and Hypothesis Testing`\n",
    "---\n",
    "### Standard Errors\n",
    "\n",
    "ML estimates are **random variables** themselves. If the joint probability distribution of the data has been specified correctly, then the ML estimator is consistent, is asymptotically efficient, and has an asymptotically normal distribution.\n",
    "$$\n",
    "\\hat{\\theta}_{ML} \\approx \\mathcal{N}(\\theta, \\mathcal{I}^{-1}_{n} (\\hat{\\theta}_{ML}))\n",
    "$$\n",
    "\n",
    "$\\mathcal{I} (\\theta)$ is **Fisher Information Matrix** which is\n",
    "\n",
    "$$\n",
    "\\mathcal{I} (\\theta) = -\\mathbb{E}\\Bigg[\\frac{\\partial^2 l}{\\partial \\theta \\partial \\theta'}\\Bigg]\n",
    "$$\n",
    "\n",
    "An estimate of the **standard error** of ML estimates i.e. $SE(\\hat{\\theta}_{ML})$ is obtained from inverse of this information matrix. Intuitively, the Fisher information indicates the steepness of the curvature of the log-likelihood surface around the MLE, and so the amount of 'information' that data provides about $\\theta$.\n",
    "\n",
    "We will use the inverse of the **Hessian** ($\\nabla^2f(x)$) from **BFGS** method to compute $SE(\\hat{\\theta}_{ML})$. Although, the BFGS showed the message \"*Desired error not necessarily achieved due to precision loss.*\" but its estimates were in-line with other optimization methods.\n",
    "\n",
    "In our `scipy.optimize.minimize`, Fisher information matrix estimate is the inverse of the Hessian (**not negative Hessian since we are minimizing negative log likelihood, not maximizing log likelihood**). \n",
    "\n",
    "The estimated standard errors $SE(\\hat{\\theta}_{ML})$ are the square roots of the diagonal elements of the inverse of the observed Fisher information matrix i.e. **the square roots of the diagonal elements of the inverse of the Hessian.**"
   ]
  },
  {
   "cell_type": "markdown",
   "id": "f33e68f4",
   "metadata": {},
   "source": [
    "##### Standard Errors (via diagonal elements of inverse Hessian from BFGS) in `MLE_df`"
   ]
  },
  {
   "cell_type": "code",
   "execution_count": 15,
   "id": "ac121b63",
   "metadata": {},
   "outputs": [
    {
     "data": {
      "text/html": [
       "<div>\n",
       "<style scoped>\n",
       "    .dataframe tbody tr th:only-of-type {\n",
       "        vertical-align: middle;\n",
       "    }\n",
       "\n",
       "    .dataframe tbody tr th {\n",
       "        vertical-align: top;\n",
       "    }\n",
       "\n",
       "    .dataframe thead th {\n",
       "        text-align: right;\n",
       "    }\n",
       "</style>\n",
       "<table border=\"1\" class=\"dataframe\">\n",
       "  <thead>\n",
       "    <tr style=\"text-align: right;\">\n",
       "      <th></th>\n",
       "      <th>ML Estimate</th>\n",
       "      <th>ML Std Error</th>\n",
       "    </tr>\n",
       "  </thead>\n",
       "  <tbody>\n",
       "    <tr>\n",
       "      <th>gamma</th>\n",
       "      <td>0.179803</td>\n",
       "      <td>0.080335</td>\n",
       "    </tr>\n",
       "    <tr>\n",
       "      <th>sigma</th>\n",
       "      <td>0.241820</td>\n",
       "      <td>0.004368</td>\n",
       "    </tr>\n",
       "    <tr>\n",
       "      <th>lambda</th>\n",
       "      <td>72.967474</td>\n",
       "      <td>10.890468</td>\n",
       "    </tr>\n",
       "    <tr>\n",
       "      <th>alpha</th>\n",
       "      <td>-0.001122</td>\n",
       "      <td>0.001574</td>\n",
       "    </tr>\n",
       "    <tr>\n",
       "      <th>beta</th>\n",
       "      <td>0.035689</td>\n",
       "      <td>0.003583</td>\n",
       "    </tr>\n",
       "  </tbody>\n",
       "</table>\n",
       "</div>"
      ],
      "text/plain": [
       "        ML Estimate  ML Std Error\n",
       "gamma      0.179803      0.080335\n",
       "sigma      0.241820      0.004368\n",
       "lambda    72.967474     10.890468\n",
       "alpha     -0.001122      0.001574\n",
       "beta       0.035689      0.003583"
      ]
     },
     "execution_count": 15,
     "metadata": {},
     "output_type": "execute_result"
    }
   ],
   "source": [
    "number_of_params = len(MLE_BFGS.x)\n",
    "mask = np.eye(number_of_params).astype(bool)    # boolean indexing to retrieve diagonal elements\n",
    "std_errors = np.sqrt(MLE_BFGS.hess_inv[mask])\n",
    "\n",
    "MLE_df = pd.DataFrame(data = zip(MLE_BFGS.x, std_errors),\n",
    "                      columns = ['ML Estimate', 'ML Std Error'],\n",
    "                      index = params_name)      # final MLE DataFrame with estimate and errors\n",
    "\n",
    "MLE_df"
   ]
  },
  {
   "cell_type": "markdown",
   "id": "82901a54",
   "metadata": {},
   "source": [
    "##### Sanity Checks (via `assert`) - $\\sigma, \\lambda, \\beta \\geq 0$"
   ]
  },
  {
   "cell_type": "code",
   "execution_count": 16,
   "id": "f0b303ad",
   "metadata": {},
   "outputs": [],
   "source": [
    "assert MLE_df.loc['sigma', 'ML Estimate'] >= 0, 'sigma (diffusion coeff.) cannot be negative'\n",
    "assert MLE_df.loc['lambda', 'ML Estimate'] >= 0, 'lambda (intensity) cannot be negative'\n",
    "assert MLE_df.loc['beta', 'ML Estimate'] >= 0, 'beta (jump size std dev) cannot be negative'"
   ]
  },
  {
   "cell_type": "markdown",
   "id": "be2c5259",
   "metadata": {},
   "source": [
    "### Hypothesis Testing\n",
    "\n",
    "For ML estimates, given that the joint probability distribution of the data has been specified correctly - the ML estimator has an asymptotically normal distribution. This means that, asymptotically, conventional hypothesis tests can be based on the approximate distribution\n",
    "$$\n",
    "\\hat{\\theta}_{ML} \\approx \\mathcal{N}(\\theta, \\mathcal{I}^{-1}_{n} (\\hat{\\theta}_{ML}))\n",
    "$$\n",
    "\n",
    "In MLE, the **Likelihood Ratio test** and the **Wald test** are used practically.\n",
    "\n",
    "#### The Likelihood Ratio test\n",
    "The Likelihood Ratio test is based on the loss of log-likelihood that results if the restrictions are imposed. The restrictions are rejected if the loss in the log-likelihood is too large. The test statistic is given by\n",
    "$$\n",
    "LR = 2\\ (l(\\theta_1) - l(\\theta_0))\n",
    "$$\n",
    "\n",
    "If the null hypothesis $\\mathcal{H}_0$ is true ($g$ = Number of restrictions),\n",
    "$$\n",
    "LR \\to \\chi^2 (g)\n",
    "$$\n",
    "\n",
    "#### The Wald test\n",
    "The LR-test requires two optimizations (ML under $\\mathcal{H}_0$ and ML under $\\mathcal{H}_1$), the Wald test is based on the unrestricted model alone i.e. $\\mathcal{H}_1$. The restrictions are rejected if the estimated parameters are too far away from the restrictions of $\\mathcal{H}_0$. This is taken as an indication that the loss in the log-likelihood is too large, and this difference is larger if the log-likelihood function has a larger curvature $(\\frac{\\partial^2 l}{\\partial \\theta^2})$. For a single parameter restriction $\\theta_i = 0$, the Wald test statistic is given by \n",
    "$$\n",
    "W \\approx (\\frac{\\hat{\\theta}_i}{s_{\\hat{\\theta}_i}})^2 \\approx \\chi^2 (1)\n",
    "$$\n",
    "\n",
    "##### Note: We will continue to use BFGS method in MLE for models under $\\mathcal{H}_0$"
   ]
  },
  {
   "cell_type": "markdown",
   "id": "975e4cbe",
   "metadata": {},
   "source": [
    "##### $X_{\\Delta t}$ under $\\mathcal{H}_0^{(1)} : \\lambda = 0$  \n",
    "Results in `hypo_test_lambda_df`\n",
    "\n",
    "$\\Longrightarrow$ No $\\left\\{ Y_i \\right\\}_{i \\in \\mathbb{N}}$ jumps. This also implies that $\\alpha = \\beta = 0$."
   ]
  },
  {
   "cell_type": "code",
   "execution_count": 17,
   "id": "c78472bd",
   "metadata": {},
   "outputs": [
    {
     "data": {
      "text/html": [
       "<div>\n",
       "<style scoped>\n",
       "    .dataframe tbody tr th:only-of-type {\n",
       "        vertical-align: middle;\n",
       "    }\n",
       "\n",
       "    .dataframe tbody tr th {\n",
       "        vertical-align: top;\n",
       "    }\n",
       "\n",
       "    .dataframe thead th {\n",
       "        text-align: right;\n",
       "    }\n",
       "</style>\n",
       "<table border=\"1\" class=\"dataframe\">\n",
       "  <thead>\n",
       "    <tr style=\"text-align: right;\">\n",
       "      <th></th>\n",
       "      <th>Hypo Test : lambda = 0</th>\n",
       "    </tr>\n",
       "  </thead>\n",
       "  <tbody>\n",
       "    <tr>\n",
       "      <th>LR test statistic</th>\n",
       "      <td>6.867989e+02</td>\n",
       "    </tr>\n",
       "    <tr>\n",
       "      <th>LR p-value</th>\n",
       "      <td>0.000000e+00</td>\n",
       "    </tr>\n",
       "    <tr>\n",
       "      <th>Wald test statistic</th>\n",
       "      <td>4.489165e+01</td>\n",
       "    </tr>\n",
       "    <tr>\n",
       "      <th>Wald p-value</th>\n",
       "      <td>2.082445e-11</td>\n",
       "    </tr>\n",
       "  </tbody>\n",
       "</table>\n",
       "</div>"
      ],
      "text/plain": [
       "                     Hypo Test : lambda = 0\n",
       "LR test statistic              6.867989e+02\n",
       "LR p-value                     0.000000e+00\n",
       "Wald test statistic            4.489165e+01\n",
       "Wald p-value                   2.082445e-11"
      ]
     },
     "execution_count": 17,
     "metadata": {},
     "output_type": "execute_result"
    }
   ],
   "source": [
    "# pdf\n",
    "def merton_pdf_H0_lambda(x, delta_t, gamma, sigma):\n",
    "    return normal_pdf(x, gamma * delta_t, np.sqrt(delta_t * sigma**2))\n",
    "\n",
    "# negative log likelihood\n",
    "def neg_log_like_merton_H0_lambda(params, data, delta_t):\n",
    "    return (-1) * np.sum(np.log(merton_pdf_H0_lambda(data, delta_t, params[0], params[1])))\n",
    "\n",
    "# MLE\n",
    "MLE_BFGS_H0_lambda = minimize(neg_log_like_merton_H0_lambda, x0 = initial_guess[0:2], method = 'BFGS', args = (data, delta_t))\n",
    "\n",
    "# log likelihood under H0 and H1\n",
    "log_like_H0_lambda = - MLE_BFGS_H0_lambda.fun\n",
    "log_like_H1_lambda = - MLE_BFGS.fun\n",
    "\n",
    "# LR statistic\n",
    "LR_stat_lambda = 2 * (log_like_H1_lambda - log_like_H0_lambda)\n",
    "\n",
    "# degrees of freedom\n",
    "dof = 1\n",
    "\n",
    "# p-value LR\n",
    "p_value_lambda_LR = 1 - stats.chi2.cdf(LR_stat_lambda, df = dof)\n",
    "\n",
    "# Wald statistic\n",
    "wald_stat_lambda = (MLE_df.loc['lambda', 'ML Estimate'] / MLE_df.loc['lambda', 'ML Std Error']) ** 2\n",
    "\n",
    "# p-value wald\n",
    "p_value_lambda_wald = 1 - stats.chi2.cdf(wald_stat_lambda, df = dof)\n",
    "\n",
    "# summarize in DataFrame\n",
    "hypo_test_lambda_df = pd.DataFrame(data = [LR_stat_lambda, p_value_lambda_LR, wald_stat_lambda, p_value_lambda_wald],\n",
    "                                   columns = ['Hypo Test : lambda = 0'],\n",
    "                                   index = ['LR test statistic', 'LR p-value', 'Wald test statistic', 'Wald p-value'])\n",
    "hypo_test_lambda_df"
   ]
  },
  {
   "cell_type": "markdown",
   "id": "658b51dc",
   "metadata": {},
   "source": [
    "Reject $\\mathcal{H}_0^{(1)} : \\lambda = 0$  at $5\\%$ significance level."
   ]
  },
  {
   "cell_type": "markdown",
   "id": "cef7559b",
   "metadata": {},
   "source": [
    "##### $X_{\\Delta t}$ under $\\mathcal{H}_0^{(2)} : \\alpha = 0$\n",
    "Results in `hypo_test_alpha_df`"
   ]
  },
  {
   "cell_type": "code",
   "execution_count": 18,
   "id": "fc4f15fe",
   "metadata": {},
   "outputs": [
    {
     "data": {
      "text/html": [
       "<div>\n",
       "<style scoped>\n",
       "    .dataframe tbody tr th:only-of-type {\n",
       "        vertical-align: middle;\n",
       "    }\n",
       "\n",
       "    .dataframe tbody tr th {\n",
       "        vertical-align: top;\n",
       "    }\n",
       "\n",
       "    .dataframe thead th {\n",
       "        text-align: right;\n",
       "    }\n",
       "</style>\n",
       "<table border=\"1\" class=\"dataframe\">\n",
       "  <thead>\n",
       "    <tr style=\"text-align: right;\">\n",
       "      <th></th>\n",
       "      <th>Hypo Test : alpha = 0</th>\n",
       "    </tr>\n",
       "  </thead>\n",
       "  <tbody>\n",
       "    <tr>\n",
       "      <th>LR test statistic</th>\n",
       "      <td>0.462304</td>\n",
       "    </tr>\n",
       "    <tr>\n",
       "      <th>LR p-value</th>\n",
       "      <td>0.496549</td>\n",
       "    </tr>\n",
       "    <tr>\n",
       "      <th>Wald test statistic</th>\n",
       "      <td>0.508100</td>\n",
       "    </tr>\n",
       "    <tr>\n",
       "      <th>Wald p-value</th>\n",
       "      <td>0.475962</td>\n",
       "    </tr>\n",
       "  </tbody>\n",
       "</table>\n",
       "</div>"
      ],
      "text/plain": [
       "                     Hypo Test : alpha = 0\n",
       "LR test statistic                 0.462304\n",
       "LR p-value                        0.496549\n",
       "Wald test statistic               0.508100\n",
       "Wald p-value                      0.475962"
      ]
     },
     "execution_count": 18,
     "metadata": {},
     "output_type": "execute_result"
    }
   ],
   "source": [
    "# pdf\n",
    "def merton_pdf_H0_alpha(x, delta_t, gamma, sigma, lam, beta):\n",
    "    pdf_jumps_upper_bound = 10\n",
    "    pdf_sum = 0\n",
    "    for n in range(pdf_jumps_upper_bound + 1):\n",
    "        pdf_sum += poisson_pmf(n, lam * delta_t) * normal_pdf(x, gamma * delta_t, np.sqrt(delta_t * sigma**2 + n * beta**2))\n",
    "    return pdf_sum\n",
    "\n",
    "# negative log likelihood\n",
    "def neg_log_like_merton_H0_alpha(params, data, delta_t):\n",
    "    return (-1) * np.sum(np.log(merton_pdf_H0_alpha(data, delta_t, params[0], params[1], params[2], params[3])))\n",
    "\n",
    "# MLE\n",
    "MLE_BFGS_H0_alpha = minimize(neg_log_like_merton_H0_alpha, x0 = [gamma_0, sigma_0, lambda_0, beta_0], method = 'BFGS', args = (data, delta_t))\n",
    "\n",
    "# log likelihood under H0 and H1\n",
    "log_like_H0_alpha = - MLE_BFGS_H0_alpha.fun\n",
    "log_like_H1_alpha = - MLE_BFGS.fun\n",
    "\n",
    "# LR statistic\n",
    "LR_stat_alpha = 2 * (log_like_H1_alpha - log_like_H0_alpha)\n",
    "\n",
    "# degrees of freedom\n",
    "dof = 1\n",
    "\n",
    "# p-value LR\n",
    "p_value_alpha_LR = 1 - stats.chi2.cdf(LR_stat_alpha, df = dof)\n",
    "\n",
    "# Wald statistic\n",
    "wald_stat_alpha = (MLE_df.loc['alpha', 'ML Estimate'] / MLE_df.loc['alpha', 'ML Std Error']) ** 2\n",
    "\n",
    "# p-value wald\n",
    "p_value_alpha_wald = 1 - stats.chi2.cdf(wald_stat_alpha, df = dof)\n",
    "\n",
    "# summarize in DataFrame\n",
    "hypo_test_alpha_df = pd.DataFrame(data = [LR_stat_alpha, p_value_alpha_LR, wald_stat_alpha, p_value_alpha_wald],\n",
    "                                  columns = ['Hypo Test : alpha = 0'],\n",
    "                                  index = ['LR test statistic', 'LR p-value', 'Wald test statistic', 'Wald p-value'])\n",
    "hypo_test_alpha_df"
   ]
  },
  {
   "cell_type": "markdown",
   "id": "ab244012",
   "metadata": {},
   "source": [
    "Do **not** reject $\\mathcal{H}_0^{(2)} : \\alpha = 0$  at $5\\%$ significance level."
   ]
  },
  {
   "cell_type": "markdown",
   "id": "28d0943e",
   "metadata": {},
   "source": [
    "##### Sanity Checks (via `assert`)- Non-Negative Test Statistics ( $\\because LR, W \\geq 0$) and P-values $\\in [0, 1]$"
   ]
  },
  {
   "cell_type": "code",
   "execution_count": 19,
   "id": "804dc8da",
   "metadata": {},
   "outputs": [],
   "source": [
    "# test statistics\n",
    "assert LR_stat_alpha >= 0, 'LR test statistic by definition cannot be negative'\n",
    "assert LR_stat_lambda >= 0, 'LR test statistic by definition cannot be negative'\n",
    "assert wald_stat_alpha >= 0, 'Wald test statistic by definition cannot be negative'\n",
    "assert wald_stat_lambda >= 0, 'Wald test statistic by definition cannot be negative'\n",
    "\n",
    "# p-values\n",
    "assert p_value_alpha_LR >= 0 and p_value_alpha_LR <= 1, 'p-value (probability) cannot be outside [0, 1]'\n",
    "assert p_value_alpha_wald >= 0 and p_value_alpha_wald <= 1, 'p-value (probability) cannot be outside [0, 1]'\n",
    "assert p_value_lambda_LR >= 0 and p_value_lambda_LR <= 1, 'p-value (probability) cannot be outside [0, 1]'\n",
    "assert p_value_lambda_wald >= 0 and p_value_lambda_wald <= 1, 'p-value (probability) cannot be outside [0, 1]'"
   ]
  },
  {
   "cell_type": "markdown",
   "id": "340bbb25",
   "metadata": {},
   "source": [
    "<a id='sec5'></a>\n",
    "## 5. `Final Results - Estimated Parameters, Standard Errors, P-values and Limitations`\n",
    "---\n",
    "##### ML Estimate and Standard Errors"
   ]
  },
  {
   "cell_type": "code",
   "execution_count": 20,
   "id": "a33d1907",
   "metadata": {},
   "outputs": [
    {
     "data": {
      "text/html": [
       "<div>\n",
       "<style scoped>\n",
       "    .dataframe tbody tr th:only-of-type {\n",
       "        vertical-align: middle;\n",
       "    }\n",
       "\n",
       "    .dataframe tbody tr th {\n",
       "        vertical-align: top;\n",
       "    }\n",
       "\n",
       "    .dataframe thead th {\n",
       "        text-align: right;\n",
       "    }\n",
       "</style>\n",
       "<table border=\"1\" class=\"dataframe\">\n",
       "  <thead>\n",
       "    <tr style=\"text-align: right;\">\n",
       "      <th></th>\n",
       "      <th>ML Estimate</th>\n",
       "      <th>ML Std Error</th>\n",
       "    </tr>\n",
       "  </thead>\n",
       "  <tbody>\n",
       "    <tr>\n",
       "      <th>gamma</th>\n",
       "      <td>0.179803</td>\n",
       "      <td>0.080335</td>\n",
       "    </tr>\n",
       "    <tr>\n",
       "      <th>sigma</th>\n",
       "      <td>0.241820</td>\n",
       "      <td>0.004368</td>\n",
       "    </tr>\n",
       "    <tr>\n",
       "      <th>lambda</th>\n",
       "      <td>72.967474</td>\n",
       "      <td>10.890468</td>\n",
       "    </tr>\n",
       "    <tr>\n",
       "      <th>alpha</th>\n",
       "      <td>-0.001122</td>\n",
       "      <td>0.001574</td>\n",
       "    </tr>\n",
       "    <tr>\n",
       "      <th>beta</th>\n",
       "      <td>0.035689</td>\n",
       "      <td>0.003583</td>\n",
       "    </tr>\n",
       "  </tbody>\n",
       "</table>\n",
       "</div>"
      ],
      "text/plain": [
       "        ML Estimate  ML Std Error\n",
       "gamma      0.179803      0.080335\n",
       "sigma      0.241820      0.004368\n",
       "lambda    72.967474     10.890468\n",
       "alpha     -0.001122      0.001574\n",
       "beta       0.035689      0.003583"
      ]
     },
     "execution_count": 20,
     "metadata": {},
     "output_type": "execute_result"
    }
   ],
   "source": [
    "MLE_df"
   ]
  },
  {
   "cell_type": "markdown",
   "id": "3d620625",
   "metadata": {},
   "source": [
    "##### p-values  $\\Longrightarrow \\mathcal{H}_0^{(1)} : \\lambda = 0$  "
   ]
  },
  {
   "cell_type": "code",
   "execution_count": 21,
   "id": "e5f8166e",
   "metadata": {},
   "outputs": [
    {
     "data": {
      "text/html": [
       "<div>\n",
       "<style scoped>\n",
       "    .dataframe tbody tr th:only-of-type {\n",
       "        vertical-align: middle;\n",
       "    }\n",
       "\n",
       "    .dataframe tbody tr th {\n",
       "        vertical-align: top;\n",
       "    }\n",
       "\n",
       "    .dataframe thead th {\n",
       "        text-align: right;\n",
       "    }\n",
       "</style>\n",
       "<table border=\"1\" class=\"dataframe\">\n",
       "  <thead>\n",
       "    <tr style=\"text-align: right;\">\n",
       "      <th></th>\n",
       "      <th>Hypo Test : lambda = 0</th>\n",
       "    </tr>\n",
       "  </thead>\n",
       "  <tbody>\n",
       "    <tr>\n",
       "      <th>LR test statistic</th>\n",
       "      <td>6.867989e+02</td>\n",
       "    </tr>\n",
       "    <tr>\n",
       "      <th>LR p-value</th>\n",
       "      <td>0.000000e+00</td>\n",
       "    </tr>\n",
       "    <tr>\n",
       "      <th>Wald test statistic</th>\n",
       "      <td>4.489165e+01</td>\n",
       "    </tr>\n",
       "    <tr>\n",
       "      <th>Wald p-value</th>\n",
       "      <td>2.082445e-11</td>\n",
       "    </tr>\n",
       "  </tbody>\n",
       "</table>\n",
       "</div>"
      ],
      "text/plain": [
       "                     Hypo Test : lambda = 0\n",
       "LR test statistic              6.867989e+02\n",
       "LR p-value                     0.000000e+00\n",
       "Wald test statistic            4.489165e+01\n",
       "Wald p-value                   2.082445e-11"
      ]
     },
     "execution_count": 21,
     "metadata": {},
     "output_type": "execute_result"
    }
   ],
   "source": [
    "hypo_test_lambda_df"
   ]
  },
  {
   "cell_type": "markdown",
   "id": "728dc320",
   "metadata": {},
   "source": [
    "Reject $\\mathcal{H}_0^{(1)} : \\lambda = 0$  at $5\\%$ significance level."
   ]
  },
  {
   "cell_type": "markdown",
   "id": "c3482594",
   "metadata": {},
   "source": [
    "##### p-values  $\\Longrightarrow \\mathcal{H}_0^{(2)} : \\alpha = 0$  "
   ]
  },
  {
   "cell_type": "code",
   "execution_count": 22,
   "id": "1a3f4662",
   "metadata": {},
   "outputs": [
    {
     "data": {
      "text/html": [
       "<div>\n",
       "<style scoped>\n",
       "    .dataframe tbody tr th:only-of-type {\n",
       "        vertical-align: middle;\n",
       "    }\n",
       "\n",
       "    .dataframe tbody tr th {\n",
       "        vertical-align: top;\n",
       "    }\n",
       "\n",
       "    .dataframe thead th {\n",
       "        text-align: right;\n",
       "    }\n",
       "</style>\n",
       "<table border=\"1\" class=\"dataframe\">\n",
       "  <thead>\n",
       "    <tr style=\"text-align: right;\">\n",
       "      <th></th>\n",
       "      <th>Hypo Test : alpha = 0</th>\n",
       "    </tr>\n",
       "  </thead>\n",
       "  <tbody>\n",
       "    <tr>\n",
       "      <th>LR test statistic</th>\n",
       "      <td>0.462304</td>\n",
       "    </tr>\n",
       "    <tr>\n",
       "      <th>LR p-value</th>\n",
       "      <td>0.496549</td>\n",
       "    </tr>\n",
       "    <tr>\n",
       "      <th>Wald test statistic</th>\n",
       "      <td>0.508100</td>\n",
       "    </tr>\n",
       "    <tr>\n",
       "      <th>Wald p-value</th>\n",
       "      <td>0.475962</td>\n",
       "    </tr>\n",
       "  </tbody>\n",
       "</table>\n",
       "</div>"
      ],
      "text/plain": [
       "                     Hypo Test : alpha = 0\n",
       "LR test statistic                 0.462304\n",
       "LR p-value                        0.496549\n",
       "Wald test statistic               0.508100\n",
       "Wald p-value                      0.475962"
      ]
     },
     "execution_count": 22,
     "metadata": {},
     "output_type": "execute_result"
    }
   ],
   "source": [
    "hypo_test_alpha_df"
   ]
  },
  {
   "cell_type": "markdown",
   "id": "5283cdb3",
   "metadata": {},
   "source": [
    "Do **not** reject $\\mathcal{H}_0^{(2)} : \\alpha = 0$  at $5\\%$ significance level."
   ]
  },
  {
   "cell_type": "markdown",
   "id": "c860fa94",
   "metadata": {},
   "source": [
    "### Limitations\n",
    "- Maximum Likelihood Estimation is consistent, asymptotic efficient and asymptotic normally ditributed only if the specified joint probability distribution is correct. In our case it implies that specified model for $X_{\\Delta t}$ should be correct\n",
    "- Optimization limitations\n",
    "    - Our optimization problem does not work with all methods\n",
    "    - We are finding local minima instead of global minima\n",
    "        - `scipy.optimize.minimize` *performs local minima; global minima computations with other functions or packages might be computationally expensive*\n",
    "    - ML estimates of parameters are sensitive to initial guesses since we are finding local minima and we may miss on global minima\n",
    "- MLE may not work well on small sample sizes\n",
    "- We have put an upper bound on number of jumps in pdf of $X_{\\Delta t}$ during ML computation\n",
    "- Made simplifications like assumption of equally spaced data sets\n",
    "- Perhaps returns in real-world are auto-correlated till some lags and i.i.d. assumption may not be strictly valid\n",
    "\n",
    "---"
   ]
  },
  {
   "cell_type": "markdown",
   "id": "12f59de1",
   "metadata": {},
   "source": [
    "##### $X_{\\Delta t} \\Longrightarrow$ Theoretical pdf ( $\\theta =$  ML Estimates ) vs Realized Frequencies"
   ]
  },
  {
   "cell_type": "code",
   "execution_count": 23,
   "id": "1d5cb686",
   "metadata": {},
   "outputs": [
    {
     "data": {
      "image/png": "[encoded data removed]",
      "text/plain": [
       "<Figure size 1152x432 with 1 Axes>"
      ]
     },
     "metadata": {
      "needs_background": "light"
     },
     "output_type": "display_data"
    }
   ],
   "source": [
    "# parameters\n",
    "gamma = MLE_df.loc['gamma', 'ML Estimate']     # drift \n",
    "sigma = MLE_df.loc['sigma', 'ML Estimate']     # diffusion coefficient\n",
    "lam = MLE_df.loc['lambda', 'ML Estimate']      # intensity\n",
    "alpha = MLE_df.loc['alpha', 'ML Estimate']     # jump size mean\n",
    "beta = MLE_df.loc['beta', 'ML Estimate']       # jump size std dev\n",
    "delta_t = 1 / 252                              # time delta b/w obs.\n",
    "\n",
    "# plot histogram\n",
    "x = np.linspace(stock_df['Daily Log Return'].min(), stock_df['Daily Log Return'].max(), 1000)\n",
    "plt.figure(figsize = (16, 6))\n",
    "plt.plot(x, merton_pdf(x, delta_t, gamma, sigma, lam, alpha, beta), color = 'r', label = 'Theoretical $X_{\\Delta t}$ pdf')      # theoretical pdf\n",
    "plt.hist(stock_df['Daily Log Return'], density = True, bins = 200, alpha = 0.7, label = 'Realized frequency $X_{\\Delta t}$')    # observed frequencies\n",
    "plt.title('Merton Histogram - Based on ML Estimates', size = 15)\n",
    "plt.xlabel('$X_{\\Delta t}$', size = 12)\n",
    "plt.ylabel('Frequency (Relative)', size = 12)\n",
    "plt.grid(True, linestyle = '--')\n",
    "plt.legend();"
   ]
  },
  {
   "cell_type": "markdown",
   "id": "9f8b4543",
   "metadata": {},
   "source": [
    "---"
   ]
  }
 ],
 "metadata": {
  "kernelspec": {
   "display_name": "Python 3 (ipykernel)",
   "language": "python",
   "name": "python3"
  },
  "language_info": {
   "codemirror_mode": {
    "name": "ipython",
    "version": 3
   },
   "file_extension": ".py",
   "mimetype": "text/x-python",
   "name": "python",
   "nbconvert_exporter": "python",
   "pygments_lexer": "ipython3",
   "version": "3.9.7"
  }
 },
 "nbformat": 4,
 "nbformat_minor": 5
}
